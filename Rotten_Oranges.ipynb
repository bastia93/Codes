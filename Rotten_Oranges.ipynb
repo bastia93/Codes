{
  "nbformat": 4,
  "nbformat_minor": 0,
  "metadata": {
    "colab": {
      "name": "Rotten Oranges.ipynb",
      "provenance": [],
      "authorship_tag": "ABX9TyOCKSDcfkQgRovBaLs7yLBl",
      "include_colab_link": true
    },
    "kernelspec": {
      "name": "python3",
      "display_name": "Python 3"
    },
    "language_info": {
      "name": "python"
    }
  },
  "cells": [
    {
      "cell_type": "markdown",
      "metadata": {
        "id": "view-in-github",
        "colab_type": "text"
      },
      "source": [
        "<a href=\"https://colab.research.google.com/github/bastia93/Codes/blob/Graph/Rotten_Oranges.ipynb\" target=\"_parent\"><img src=\"https://colab.research.google.com/assets/colab-badge.svg\" alt=\"Open In Colab\"/></a>"
      ]
    },
    {
      "cell_type": "markdown",
      "source": [
        "Given a matrix of integers A of size N x M consisting of 0, 1 or 2.\n",
        "\n",
        "Each cell can have three values:\n",
        "\n",
        "The value 0 representing an empty cell.\n",
        "\n",
        "The value 1 representing a fresh orange.\n",
        "\n",
        "The value 2 representing a rotten orange.\n",
        "\n",
        "Every minute, any fresh orange that is adjacent (Left, Right, Top, or Bottom) to a rotten orange becomes rotten. Return the minimum number of minutes that must elapse until no cell has a fresh orange. If this is impossible, return -1 instead.\n",
        "\n",
        "Note: Your solution will run on multiple test cases. If you are using global variables, make sure to clear them.\n",
        "\n",
        "A =[\n",
        "\n",
        "      [2, 1, 1]\n",
        "      [1, 1, 0]\n",
        "      [0, 1, 1]   ]\n",
        "\n",
        "ans = 4\n",
        "\n",
        "A = [   \n",
        "    \n",
        "        [2, 1, 1]\n",
        "        [0, 1, 1]\n",
        "        [1, 0, 1]   ]\n",
        "\n",
        "ans = -1"
      ],
      "metadata": {
        "id": "KWcbS4oRfh70"
      }
    },
    {
      "cell_type": "code",
      "source": [
        "class Node:\n",
        "    def __init__(self, index, level):\n",
        "        self.index = index\n",
        "        self.level = level"
      ],
      "metadata": {
        "id": "PFgjWGZqgJQe"
      },
      "execution_count": 1,
      "outputs": []
    },
    {
      "cell_type": "code",
      "source": [
        "from collections import deque"
      ],
      "metadata": {
        "id": "4BCCvRiNgqcj"
      },
      "execution_count": 2,
      "outputs": []
    },
    {
      "cell_type": "code",
      "source": [
        "\n",
        "def solve(A):\n",
        "    q = deque()\n",
        "\n",
        "    n = len(A)\n",
        "    m = len(A[0])\n",
        "\n",
        "    for i in range(n):\n",
        "        for j in range(m):\n",
        "            if A[i][j] == 2:\n",
        "                temp = Node([i,j],0)\n",
        "                q.append(temp)\n",
        "    \n",
        "    ans = 0\n",
        "    while q:\n",
        "        temp = q.popleft()\n",
        "        ans = max(ans, temp.level)\n",
        "        # Top\n",
        "        x= temp.index[0]-1\n",
        "        y= temp.index[1]\n",
        "        if x >= 0 and x < n and y >= 0 and y <m and A[x][y] == 1:\n",
        "            A[x][y] = 2\n",
        "            temp2 = Node([x,y],temp.level+1)\n",
        "            q.append(temp2)\n",
        "        \n",
        "        #Bottom\n",
        "        x = temp.index[0]+1\n",
        "        y= temp.index[1]\n",
        "        if x >= 0 and x < n and y >= 0 and y <m and A[x][y] == 1:\n",
        "            A[x][y] = 2\n",
        "            temp2 = Node([x,y],temp.level+1)\n",
        "            q.append(temp2)\n",
        "\n",
        "        #Left\n",
        "        x = temp.index[0]\n",
        "        y = temp.index[1]-1\n",
        "        if x >= 0 and x < n and y >= 0 and y <m and A[x][y] == 1:\n",
        "            A[x][y] = 2\n",
        "            temp2 = Node([x,y],temp.level+1)\n",
        "            q.append(temp2)  \n",
        "\n",
        "        #Right\n",
        "        x = temp.index[0]\n",
        "        y = temp.index[1]+1\n",
        "        if x >= 0 and x < n and y >= 0 and y <m and A[x][y] == 1:\n",
        "            A[x][y] = 2\n",
        "            temp2 = Node([x,y],temp.level+1)\n",
        "            q.append(temp2)  \n",
        "                    \n",
        "    \n",
        "    #print(A)\n",
        "    for i in range(n):\n",
        "        for j in range(m):\n",
        "            if A[i][j] == 1:\n",
        "                return -1\n",
        "    return ans\n",
        "\n"
      ],
      "metadata": {
        "id": "2VmJbkS3gWYC"
      },
      "execution_count": 20,
      "outputs": []
    },
    {
      "cell_type": "code",
      "source": [
        "A = [   [2, 1, 1],\n",
        "        [0, 1, 1],\n",
        "        [1, 0, 1]   ]\n",
        "solve(A)"
      ],
      "metadata": {
        "colab": {
          "base_uri": "https://localhost:8080/"
        },
        "id": "A-ZyFnpJhIKk",
        "outputId": "87c832f8-a4a4-456f-f104-bca72d5b3db4"
      },
      "execution_count": 21,
      "outputs": [
        {
          "output_type": "execute_result",
          "data": {
            "text/plain": [
              "-1"
            ]
          },
          "metadata": {},
          "execution_count": 21
        }
      ]
    }
  ]
}