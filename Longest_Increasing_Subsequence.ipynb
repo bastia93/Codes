{
  "nbformat": 4,
  "nbformat_minor": 0,
  "metadata": {
    "colab": {
      "name": "Longest_Increasing_Subsequence.ipynb",
      "provenance": [],
      "collapsed_sections": [],
      "authorship_tag": "ABX9TyOvi5qfshG7NBM25Rr/yHWq",
      "include_colab_link": true
    },
    "kernelspec": {
      "name": "python3",
      "display_name": "Python 3"
    },
    "language_info": {
      "name": "python"
    }
  },
  "cells": [
    {
      "cell_type": "markdown",
      "metadata": {
        "id": "view-in-github",
        "colab_type": "text"
      },
      "source": [
        "<a href=\"https://colab.research.google.com/github/bastia93/Codes/blob/Dynamic-Programming/Longest_Increasing_Subsequence.ipynb\" target=\"_parent\"><img src=\"https://colab.research.google.com/assets/colab-badge.svg\" alt=\"Open In Colab\"/></a>"
      ]
    },
    {
      "cell_type": "markdown",
      "source": [
        "Find the longest increasing subsequence of a given array of integers, A.\n",
        "\n",
        "In other words, find a subsequence of array in which the subsequence's elements are in strictly increasing order, and in which the subsequence is as long as possible.\n",
        "\n",
        "In this case, return the length of the longest increasing subsequence.\n",
        "\n",
        "example: A = [1, 2, 1, 5]\n",
        "ans = 3 [1,2,5]"
      ],
      "metadata": {
        "id": "HoIj3xnYIw6W"
      }
    },
    {
      "cell_type": "code",
      "source": [
        "A = [ 69, 54, 19, 51, 16, 54, 64, 89, 72, 40, 31, 43, 1, 11, 82, 65, 75, 67, 25, 98, 31, 77, 55, 88, 85, 76, 35, 101, 44, 74, 29, 94, 72, 39, 20, 24, 23, 66, 16, 95, 5, 17, 54, 89, 93, 10, 7, 88, 68, 10, 11, 22, 25, 50, 18, 59, 79, 87, 7, 49, 26, 96, 27, 19, 67, 35, 50, 10, 6, 48, 38, 28, 66, 94, 60, 27, 76, 4, 43, 66, 14, 8, 78, 72, 21, 56, 34, 90, 89 ]\n",
        "n = len(A)\n",
        "\n",
        "# initialized 1 because if I consider only that element than the ans is 1\n",
        "# Each index can be end of the required subsequence\n",
        "# the above index can be choosen(potentially) after each index less than the ending index.\n",
        "\n",
        "B = [1 for i in range(n)]\n",
        "\n",
        "ans = 1\n",
        "for i in range(1,n):\n",
        "    for j in range(0,i):\n",
        "        if A[i] > A[j]:\n",
        "            B[i] = max(B[i], B[j]+1)\n",
        "    \n",
        "    ans = max(ans,B[i])\n",
        "\n",
        "print(B)\n",
        "print(max(B))\n",
        "print(ans)"
      ],
      "metadata": {
        "id": "zMFDfu15JA7k"
      },
      "execution_count": null,
      "outputs": []
    }
  ]
}