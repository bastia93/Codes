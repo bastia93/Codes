{
  "nbformat": 4,
  "nbformat_minor": 0,
  "metadata": {
    "colab": {
      "name": "Ways to send the signal.ipynb",
      "provenance": [],
      "collapsed_sections": [],
      "authorship_tag": "ABX9TyPCuMbrovibSQDcMaWYF+po",
      "include_colab_link": true
    },
    "kernelspec": {
      "name": "python3",
      "display_name": "Python 3"
    },
    "language_info": {
      "name": "python"
    }
  },
  "cells": [
    {
      "cell_type": "markdown",
      "metadata": {
        "id": "view-in-github",
        "colab_type": "text"
      },
      "source": [
        "<a href=\"https://colab.research.google.com/github/bastia93/Scaler_codes/blob/Dynamic-Programming/Ways_to_send_the_signal.ipynb\" target=\"_parent\"><img src=\"https://colab.research.google.com/assets/colab-badge.svg\" alt=\"Open In Colab\"/></a>"
      ]
    },
    {
      "cell_type": "markdown",
      "source": [
        "You are trying to send signals to aliens using a linear array of A laser lights. You don't know much about how the aliens are going to percieve the signals, but what you know is that if two consecutive lights are on then the aliens might take it as a sign of danger and destroy the earth.\n",
        "\n",
        "Find and return the total number of ways in which you can send a signal without compromising the safty of the earth. Return the ans % 109 + 7.\n",
        "\n",
        "A = 3\n",
        "ans = 5"
      ],
      "metadata": {
        "id": "PKWGru_QDQkv"
      }
    },
    {
      "cell_type": "code",
      "execution_count": null,
      "metadata": {
        "id": "AczqG1jp8oNx"
      },
      "outputs": [],
      "source": [
        "def solve(A):\n",
        "    # created 2*N matrix: at any point one light bulb can be on or off.\n",
        "    # N is number of lights and 2 rows one is on and other is off.\n",
        "\n",
        "    dp = [[0 for i in range(A+1)] for j in range(2)]\n",
        "\n",
        "    # initializing if for the first light or if only one light is present then number of ways they can be arranged is 2\n",
        "    # one is on and other is off\n",
        "    #  0 means off and 1 means on.\n",
        "    dp[0][1] = 1\n",
        "    dp[1][1] = 1\n",
        "    mod = (10**9)+7\n",
        "    for i in range(2,A+1):\n",
        "        # status of current light depends on the status of previous light.\n",
        "\n",
        "        # the current light cab be off if previous light is off or on\n",
        "        dp[0][i] = dp[0][i-1] % mod + dp[1][i-1]%mod\n",
        "\n",
        "        # for the current light to be on if and only if previous light is off.\n",
        "        dp[1][i] = dp[0][i-1]% mod\n",
        "    \n",
        "    return (dp[0][A] + dp[1][A]) % mod"
      ]
    },
    {
      "cell_type": "code",
      "source": [
        "A = 6\n",
        "print(solve(A))"
      ],
      "metadata": {
        "colab": {
          "base_uri": "https://localhost:8080/"
        },
        "id": "T4x7Bbfi8yAN",
        "outputId": "aec486f4-2816-4439-ddd9-eeb07133af2f"
      },
      "execution_count": null,
      "outputs": [
        {
          "output_type": "stream",
          "name": "stdout",
          "text": [
            "21\n"
          ]
        }
      ]
    }
  ]
}