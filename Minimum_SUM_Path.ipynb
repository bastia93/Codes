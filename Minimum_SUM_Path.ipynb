{
  "nbformat": 4,
  "nbformat_minor": 0,
  "metadata": {
    "colab": {
      "name": "Minimum_SUM_Path.ipynb",
      "provenance": [],
      "collapsed_sections": [],
      "authorship_tag": "ABX9TyMGtlH3fMnEnTvhziv5nCkR",
      "include_colab_link": true
    },
    "kernelspec": {
      "name": "python3",
      "display_name": "Python 3"
    },
    "language_info": {
      "name": "python"
    }
  },
  "cells": [
    {
      "cell_type": "markdown",
      "metadata": {
        "id": "view-in-github",
        "colab_type": "text"
      },
      "source": [
        "<a href=\"https://colab.research.google.com/github/bastia93/Scaler_codes/blob/Dynamic-Programming/Minimum_SUM_Path.ipynb\" target=\"_parent\"><img src=\"https://colab.research.google.com/assets/colab-badge.svg\" alt=\"Open In Colab\"/></a>"
      ]
    },
    {
      "cell_type": "markdown",
      "source": [
        "Given a M x N grid A of integers, find a path from top left to bottom right which minimizes the sum of all numbers along its path.\n",
        "\n",
        "Return the minimum sum of the path.\n",
        "\n",
        "NOTE: You can only move either down or right at any point in time.\n",
        "\n",
        " A =[\n",
        "     \n",
        "       [1, 3, 2],\n",
        "       [4, 3, 1],\n",
        "       [5, 6, 1]\n",
        "     ]\n",
        "ans = 8"
      ],
      "metadata": {
        "id": "ELjYDKCTOrFU"
      }
    },
    {
      "cell_type": "code",
      "source": [
        "import math"
      ],
      "metadata": {
        "id": "X2uUXxpbO3EV"
      },
      "execution_count": null,
      "outputs": []
    },
    {
      "cell_type": "code",
      "source": [
        "def minPathSum(A):\n",
        "\n",
        "    n = len(A)\n",
        "    m = len(A[0])\n",
        "\n",
        "    ans= [[0 for i in range(m)] for j in range(n) ]\n",
        "\n",
        "    # iteration method is used\n",
        "    # to go to a position I can go from top or from left.\n",
        "\n",
        "    # so the minimum cost to reach state is = cost to reach the state + minimum of (cost to reach top , cost to reach left)\n",
        "\n",
        "\n",
        "    for i in range(n):\n",
        "\n",
        "        for j in range(m):\n",
        "\n",
        "            # Getting the top and left costs\n",
        "            # if the top or left goes beyond the boundary then cost is infinite.\n",
        "\n",
        "            top = math.inf if i-1<0 else ans[i-1][j]\n",
        "            left = math.inf if j-1<0 else ans[i][j-1]\n",
        "\n",
        "            #print(i,j,top,left)\n",
        "\n",
        "            \n",
        "            if top == math.inf and left == math.inf:\n",
        "                ans[i][j] = A[i][j]              \n",
        "                \n",
        "            else:\n",
        "                ans[i][j] = A[i][j] + min(top,left)\n",
        "                \n",
        "    \n",
        "    for i in ans:\n",
        "        print(i)\n",
        "    return ans[n-1][m-1]"
      ],
      "metadata": {
        "id": "9ouU5Ln8Osbl"
      },
      "execution_count": null,
      "outputs": []
    },
    {
      "cell_type": "code",
      "source": [
        "A = [\n",
        "       [1, 3, 2],\n",
        "       [4, 3, 1],\n",
        "       [5, 6, 1]\n",
        "     ]\n",
        "\n",
        "print(minPathSum(A))"
      ],
      "metadata": {
        "colab": {
          "base_uri": "https://localhost:8080/"
        },
        "id": "I_V0Hs2MOv3d",
        "outputId": "abb2ccca-9454-431d-fcb5-af2d151ee27e"
      },
      "execution_count": null,
      "outputs": [
        {
          "output_type": "stream",
          "name": "stdout",
          "text": [
            "0 0 inf inf\n",
            "0 1 inf 1\n",
            "0 2 inf 4\n",
            "1 0 1 inf\n",
            "1 1 4 5\n",
            "1 2 6 7\n",
            "2 0 5 inf\n",
            "2 1 7 10\n",
            "2 2 7 13\n",
            "[1, 4, 6]\n",
            "[5, 7, 7]\n",
            "[10, 13, 8]\n",
            "8\n"
          ]
        }
      ]
    }
  ]
}