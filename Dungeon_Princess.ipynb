{
  "nbformat": 4,
  "nbformat_minor": 0,
  "metadata": {
    "colab": {
      "name": "Dungeon Princess.ipynb",
      "provenance": [],
      "collapsed_sections": [],
      "authorship_tag": "ABX9TyOH2BcxA9hzJO9xjKf+GToW",
      "include_colab_link": true
    },
    "kernelspec": {
      "name": "python3",
      "display_name": "Python 3"
    },
    "language_info": {
      "name": "python"
    }
  },
  "cells": [
    {
      "cell_type": "markdown",
      "metadata": {
        "id": "view-in-github",
        "colab_type": "text"
      },
      "source": [
        "<a href=\"https://colab.research.google.com/github/bastia93/Codes/blob/Dynamic-Programming/Dungeon_Princess.ipynb\" target=\"_parent\"><img src=\"https://colab.research.google.com/assets/colab-badge.svg\" alt=\"Open In Colab\"/></a>"
      ]
    },
    {
      "cell_type": "markdown",
      "source": [
        "The demons had captured the princess and imprisoned her in the bottom-right corner of a dungeon. The dungeon consists of M x N rooms laid out in a 2D grid. Our valiant knight was initially positioned in the top-left room and must fight his way through the dungeon to rescue the princess.\n",
        "\n",
        "The knight has an initial health point represented by a positive integer. If at any point his health point drops to 0 or below, he dies immediately.\n",
        "\n",
        "Some of the rooms are guarded by demons, so the knight loses health (negative integers) upon entering these rooms; other rooms are either empty (0's) or contain magic orbs that increase the knight's health (positive integers).\n",
        "\n",
        "In order to reach the princess as quickly as possible, the knight decides to move only rightward or downward in each step.\n",
        "\n",
        "Given a 2D array of integers A of size M x N. Find and return the knight's minimum initial health so that he is able to rescue the princess.\n",
        "\n",
        "A = [ \n",
        "\n",
        "       [-2, -3, 3],\n",
        "       [-5, -10, 1],\n",
        "       [10, 30, -5]\n",
        "     ]\n",
        "\n",
        "ans = 7"
      ],
      "metadata": {
        "id": "pUSjcaVXKtnc"
      }
    },
    {
      "cell_type": "code",
      "source": [
        "import math\n"
      ],
      "metadata": {
        "id": "X5gfXInLo1Zl"
      },
      "execution_count": null,
      "outputs": []
    },
    {
      "cell_type": "code",
      "source": [
        "A = [ [-2, -3, 3], [-5, -10, 1], [10, 30, -5]]\n",
        "\n",
        "n = len(A)\n",
        "m = len(A[0])\n",
        "\n",
        "dp = [[math.inf for i in range(m)] for j in range(n)]\n",
        "\n",
        "def FindMinimum(x,y):\n",
        "\n",
        "    # Base case if index reached at the right bottom point\n",
        "    if x == n-1 and y == m-1:\n",
        "        dp[x][y] = max(1-A[x][y], 1)\n",
        "        return dp[x][y]\n",
        "    \n",
        "    if dp[x][y] != math.inf:\n",
        "        return dp[x][y]\n",
        "    \n",
        "    # find the cost required to go down\n",
        "    if x < n-1:\n",
        "        down = FindMinimum(x+1,y)\n",
        "    else:\n",
        "        down = math.inf\n",
        "    \n",
        "    # Find the cost to go right\n",
        "    if y < (m-1):\n",
        "        right = FindMinimum(x,y+1)\n",
        "    else:\n",
        "        right = math.inf\n",
        "    \n",
        "    temp = max((min(down, right) - A[x][y]), 1)\n",
        "    dp[x][y] = temp\n",
        "    return dp[x][y]\n",
        "\n",
        "\n",
        "\n",
        "print(FindMinimum(0,0))\n",
        "    "
      ],
      "metadata": {
        "id": "Jbv5P6ddo3HM",
        "colab": {
          "base_uri": "https://localhost:8080/"
        },
        "outputId": "afb26504-88e2-4677-8409-fe8cb75c3adb"
      },
      "execution_count": null,
      "outputs": [
        {
          "output_type": "stream",
          "name": "stdout",
          "text": [
            "7\n"
          ]
        }
      ]
    }
  ]
}