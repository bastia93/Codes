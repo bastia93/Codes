{
  "nbformat": 4,
  "nbformat_minor": 0,
  "metadata": {
    "colab": {
      "name": "Return Lost Number at level B.ipynb",
      "provenance": [],
      "collapsed_sections": [],
      "authorship_tag": "ABX9TyPXjSPXNBwIM53hjAwXe6gi",
      "include_colab_link": true
    },
    "kernelspec": {
      "name": "python3",
      "display_name": "Python 3"
    },
    "language_info": {
      "name": "python"
    }
  },
  "cells": [
    {
      "cell_type": "markdown",
      "metadata": {
        "id": "view-in-github",
        "colab_type": "text"
      },
      "source": [
        "<a href=\"https://colab.research.google.com/github/bastia93/Codes/blob/Binary-Tree/Return_Lost_Number_at_level_B.ipynb\" target=\"_parent\"><img src=\"https://colab.research.google.com/assets/colab-badge.svg\" alt=\"Open In Colab\"/></a>"
      ]
    },
    {
      "cell_type": "markdown",
      "source": [
        "Given a binary tree with root node pointer A and an integer B. \n",
        "\n",
        "A number S is lost in the tree but you somehow find how to restore it. \n",
        "\n",
        "S is formed by concatenating all the node values from left to right at level B. \n",
        "\n",
        "Find and return the number S. \n",
        "\n",
        "If there are no nodes at level B then return an empty string. \n",
        "\n",
        "Note: Consider the level of root node as 0."
      ],
      "metadata": {
        "id": "SWTjpfBYqAgR"
      }
    },
    {
      "cell_type": "code",
      "source": [
        "# Binary Tree formation\n",
        "class TreeNode:\n",
        "    def __init__(self, x):\n",
        "        self.val = x\n",
        "        self.left = None\n",
        "        self.right = None"
      ],
      "metadata": {
        "id": "JuOlcWRnqT8h"
      },
      "execution_count": 1,
      "outputs": []
    },
    {
      "cell_type": "code",
      "source": [
        "Root = TreeNode(5)\n",
        "# Left sub tree\n",
        "Root.left = TreeNode(4)\n",
        "Root.left.left = TreeNode(200)\n",
        "Root.left.right = TreeNode(3)\n",
        "Root.left.right.left = TreeNode(100)\n",
        "# Right Sub tree\n",
        "Root.right = TreeNode(7)\n",
        "Root.right.right= TreeNode(11)\n",
        "Root.right.right.left= TreeNode(12)\n",
        "Root.right.right.right = TreeNode(10000)\n",
        "Root.right.left = TreeNode(70)\n",
        "Root.right.left.right = TreeNode(9)\n",
        "Root.right.left.right.left = TreeNode(15)"
      ],
      "metadata": {
        "id": "-L678dnLqkZt"
      },
      "execution_count": 2,
      "outputs": []
    },
    {
      "cell_type": "code",
      "source": [
        "def FindLevel(node, height, ans, target):\n",
        "    if node == None:\n",
        "        return ans\n",
        "    elif height == target:\n",
        "        ans += str(node.val)\n",
        "        return ans\n",
        "    \n",
        "    else:\n",
        "        ans = FindLevel(node.left,height+1, ans,target)\n",
        "        ans = FindLevel(node.right, height+1, ans, target)\n",
        "\n",
        "        return ans\n",
        "\n",
        "print(FindLevel(Root, 0, \"\",3))\n",
        "\n",
        "        "
      ],
      "metadata": {
        "colab": {
          "base_uri": "https://localhost:8080/"
        },
        "id": "J9XykausrSSJ",
        "outputId": "a1b15cd6-3bce-451e-cfba-a73c5dcd7e27"
      },
      "execution_count": 17,
      "outputs": [
        {
          "output_type": "stream",
          "name": "stdout",
          "text": [
            "10091210000\n"
          ]
        }
      ]
    }
  ]
}