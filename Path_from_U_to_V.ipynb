{
  "nbformat": 4,
  "nbformat_minor": 0,
  "metadata": {
    "colab": {
      "name": "Path from U to V.ipynb",
      "provenance": [],
      "authorship_tag": "ABX9TyMqKG98/KJTIMvQCBgkDKDZ",
      "include_colab_link": true
    },
    "kernelspec": {
      "name": "python3",
      "display_name": "Python 3"
    },
    "language_info": {
      "name": "python"
    }
  },
  "cells": [
    {
      "cell_type": "markdown",
      "metadata": {
        "id": "view-in-github",
        "colab_type": "text"
      },
      "source": [
        "<a href=\"https://colab.research.google.com/github/bastia93/Codes/blob/Graph/Path_from_U_to_V.ipynb\" target=\"_parent\"><img src=\"https://colab.research.google.com/assets/colab-badge.svg\" alt=\"Open In Colab\"/></a>"
      ]
    },
    {
      "cell_type": "markdown",
      "source": [
        "You are given N towns (1 to N). All towns are connected via unique directed path as mentioned in the input.\n",
        "\n",
        "Given 2 towns find whether you can reach the first town from the second without repeating any edge.\n",
        "\n",
        "B C : query to find whether B is reachable from C.\n",
        "\n",
        "Input contains an integer array A of size N and 2 integers B and C ( 1 <= B, C <= N ).\n",
        "\n",
        "There exist a directed edge from A[i] to i+1 for every 1 <= i < N. Also, it's guaranteed that A[i] <= i.\n",
        "\n",
        "NOTE: Array A is 0-indexed.\n",
        "\n",
        "Input:\n",
        "\n",
        "First argument is vector A\n",
        "\n",
        "Second argument is integer B\n",
        "\n",
        "Third argument is integer C\n",
        "\n",
        "Output:\n",
        "\n",
        "Return 1 if reachable, 0 otherwise.\n",
        "\n",
        "A = [1, 1, 2]\n",
        " B = 1\n",
        " C = 2\n",
        "\n",
        " output: 0\n",
        "\n",
        " Tree is 1--> 2--> 3 and hence 1 is not reachable from 2.\n",
        "\n",
        "A : [ 1, 1, 1, 3, 3, 2, 2, 7, 6 ]\n",
        "B : 2\n",
        "C : 8\n",
        "ans = 0"
      ],
      "metadata": {
        "id": "rJKIjy7UCJZf"
      }
    },
    {
      "cell_type": "code",
      "source": [
        "def dfs(u,v,vst,adj):\n",
        "    vst[u] = True\n",
        "    if v == u:\n",
        "        return True\n",
        "    else:\n",
        "        if u in adj:\n",
        "            for x in adj[u]:\n",
        "                if  not vst[x]:\n",
        "                    if dfs(x,v,vst,adj):\n",
        "                        return True\n",
        "        \n",
        "        return False\n"
      ],
      "metadata": {
        "id": "bY9LFokhDlHZ"
      },
      "execution_count": 14,
      "outputs": []
    },
    {
      "cell_type": "code",
      "source": [
        "def solve(A,B,C):\n",
        "    # create the adjancency List\n",
        "\n",
        "    adj = {}\n",
        "    n = len(A)\n",
        "\n",
        "    for i in range(1,n):\n",
        "        if A[i] not in adj:\n",
        "            adj[A[i]] = []\n",
        "        adj[A[i]].append(i+1)\n",
        "    \n",
        "    vst = [False for i in range(n+1)]\n",
        "\n",
        "    if dfs(C,B,vst,adj):\n",
        "        return 1\n",
        "    else:\n",
        "        return 0"
      ],
      "metadata": {
        "id": "5MWZdtuWClh0"
      },
      "execution_count": 17,
      "outputs": []
    },
    {
      "cell_type": "code",
      "source": [
        "A = [ 1, 1, 1, 3, 3, 2, 2, 7, 6 ]\n",
        "B = 8\n",
        "C = 2\n",
        "# is 8 can be reachable from 2\n",
        "solve(A,B,C)"
      ],
      "metadata": {
        "colab": {
          "base_uri": "https://localhost:8080/"
        },
        "id": "0MFQKAhcC_of",
        "outputId": "26e79056-0bca-4daf-bbef-018f8b2682cc"
      },
      "execution_count": 19,
      "outputs": [
        {
          "output_type": "execute_result",
          "data": {
            "text/plain": [
              "1"
            ]
          },
          "metadata": {},
          "execution_count": 19
        }
      ]
    },
    {
      "cell_type": "code",
      "source": [
        "A = [ 1, 1, 1, 3, 3, 2, 2, 7, 6 ]\n",
        "B = 2\n",
        "C = 8\n",
        "# is 2 can be reachable from 8\n",
        "solve(A,B,C)"
      ],
      "metadata": {
        "colab": {
          "base_uri": "https://localhost:8080/"
        },
        "id": "15GDzuLfFsXS",
        "outputId": "2e8ce51d-65e9-42ce-f1ce-aff25e8bd968"
      },
      "execution_count": 18,
      "outputs": [
        {
          "output_type": "execute_result",
          "data": {
            "text/plain": [
              "0"
            ]
          },
          "metadata": {},
          "execution_count": 18
        }
      ]
    }
  ]
}