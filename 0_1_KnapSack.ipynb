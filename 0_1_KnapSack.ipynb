{
  "nbformat": 4,
  "nbformat_minor": 0,
  "metadata": {
    "colab": {
      "name": "0-1_KnapSack.ipynb",
      "provenance": [],
      "authorship_tag": "ABX9TyP9Ku6Ymy8dfS1vlZVk4cQA",
      "include_colab_link": true
    },
    "kernelspec": {
      "name": "python3",
      "display_name": "Python 3"
    },
    "language_info": {
      "name": "python"
    }
  },
  "cells": [
    {
      "cell_type": "markdown",
      "metadata": {
        "id": "view-in-github",
        "colab_type": "text"
      },
      "source": [
        "<a href=\"https://colab.research.google.com/github/bastia93/Codes/blob/Dynamic-Programming/0_1_KnapSack.ipynb\" target=\"_parent\"><img src=\"https://colab.research.google.com/assets/colab-badge.svg\" alt=\"Open In Colab\"/></a>"
      ]
    },
    {
      "cell_type": "markdown",
      "source": [
        "Given two integer arrays A and B of size N each which represent values and weights associated with N items respectively.\n",
        "\n",
        "Also given an integer C which represents knapsack capacity.\n",
        "\n",
        "Find out the maximum value subset of A such that sum of the weights of this subset is smaller than or equal to C.\n",
        "\n",
        "NOTE:\n",
        "\n",
        "You cannot break an item, either pick the complete item, or don’t pick it (0-1 property)."
      ],
      "metadata": {
        "id": "aTf-o1Kl_XB-"
      }
    },
    {
      "cell_type": "code",
      "source": [
        "#A = values Arr\n",
        "#B = Weights Arr\n",
        "#C = Capacity\n",
        "# the given array are zero based index and dp is 1 based\n",
        "def solve(A,B,C):\n",
        "    n = len(A)\n",
        "    dp = [[0 for i in range(C+1)] for j in range(n+1)]\n",
        "\n",
        "    #dp[i][j]  i in the (1 to ith element) and j is the capacity weight \n",
        "    for i in range(n+1): # by \n",
        "        for j in range(C+1):\n",
        "            if i == 0 or j == 0:\n",
        "                dp[i][j] = 0\n",
        "            elif j >= B[i-1]:\n",
        "                # if the capacity is greater than the weight of the current element\n",
        "                # There are two option selecting or rejecting\n",
        "                # Choose the maximum out of two\n",
        "                # if rejected then the maximum happiness is considering 1 to (i-1)th element with capacity is j.\n",
        "\n",
        "                # if selected the happiness is \n",
        "                # A[i] (current happy) + happiness considering 1 to (i-1)th element with capacity = j - B[i] \n",
        "                dp[i][j] = max(dp[i-1][j] , A[i-1]+dp[i-1][j-B[i-1]])\n",
        "            else:\n",
        "                # capcity is smaller than the current weight the select the maximum happiness considering 1 to (i-1)th element with j capacity\n",
        "                dp[i][j] = dp[i-1][j]\n",
        "    \n",
        "    return dp[n][C]\n",
        "\n",
        "\n"
      ],
      "metadata": {
        "id": "b1dItrq3_fnX"
      },
      "execution_count": 3,
      "outputs": []
    },
    {
      "cell_type": "code",
      "source": [
        "A = [60, 100, 120]\n",
        "B = [10, 20, 30]\n",
        "C = 50\n",
        "\n",
        "print(solve(A,B,C))"
      ],
      "metadata": {
        "colab": {
          "base_uri": "https://localhost:8080/"
        },
        "id": "Ohsb4bYCDjAO",
        "outputId": "b90ff08f-4559-4089-dac5-d9e28b9a5d0f"
      },
      "execution_count": 4,
      "outputs": [
        {
          "output_type": "stream",
          "name": "stdout",
          "text": [
            "220\n"
          ]
        }
      ]
    }
  ]
}