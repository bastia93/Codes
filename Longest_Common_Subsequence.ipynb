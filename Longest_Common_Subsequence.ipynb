{
  "nbformat": 4,
  "nbformat_minor": 0,
  "metadata": {
    "colab": {
      "name": "Longest Common Subsequence.ipynb",
      "provenance": [],
      "authorship_tag": "ABX9TyO820HwNET49At22syV2l4P",
      "include_colab_link": true
    },
    "kernelspec": {
      "name": "python3",
      "display_name": "Python 3"
    },
    "language_info": {
      "name": "python"
    }
  },
  "cells": [
    {
      "cell_type": "markdown",
      "metadata": {
        "id": "view-in-github",
        "colab_type": "text"
      },
      "source": [
        "<a href=\"https://colab.research.google.com/github/bastia93/Codes/blob/Dynamic-Programming/Longest_Common_Subsequence.ipynb\" target=\"_parent\"><img src=\"https://colab.research.google.com/assets/colab-badge.svg\" alt=\"Open In Colab\"/></a>"
      ]
    },
    {
      "cell_type": "markdown",
      "source": [
        "Given two strings A and B. Find the longest common subsequence ( A sequence which does not need to be contiguous), which is common in both the strings.\n",
        "\n",
        "You need to return the length of such longest common subsequence.\n",
        "\n",
        "1 <= Length of A, B <= 1005\n",
        "\n",
        "First argument is a string A.\n",
        "Second argument is a string B.\n",
        "\n",
        "A = \"abbcdgf\"\n",
        "B = \"bbadcgf\"\n",
        "\n",
        "ans = 5  \"bbcgf\""
      ],
      "metadata": {
        "id": "dFI28eKMkJBZ"
      }
    },
    {
      "cell_type": "code",
      "source": [
        "A = \"aaaaaa\"\n",
        "B = \"ababab\"\n",
        "\n",
        "n = len(A)\n",
        "m = len(B)\n",
        "\n",
        "dp = [[0 for i in range(m+1)] for j in range(n+1)]\n",
        "\n",
        "for i in range(n+1):\n",
        "    for j in range(m+1):\n",
        "        if i == 0 or j ==0:\n",
        "            dp[i][j] =0\n",
        "        elif A[i-1] == B[j-1]:\n",
        "            dp[i][j] = 1+ dp[i-1][j-1]\n",
        "        else:\n",
        "            dp[i][j] = max(dp[i-1][j], dp[i][j-1] )\n",
        "\n",
        "print(dp)\n",
        "print(dp[n][m])"
      ],
      "metadata": {
        "id": "O8rNuYd7mKvd",
        "colab": {
          "base_uri": "https://localhost:8080/"
        },
        "outputId": "2918b801-4b78-4f14-c69c-c5884e70e912"
      },
      "execution_count": 5,
      "outputs": [
        {
          "output_type": "stream",
          "name": "stdout",
          "text": [
            "[[0, 0, 0, 0, 0, 0, 0], [0, 1, 1, 1, 1, 1, 1], [0, 1, 1, 2, 2, 2, 2], [0, 1, 1, 2, 2, 3, 3], [0, 1, 1, 2, 2, 3, 3], [0, 1, 1, 2, 2, 3, 3], [0, 1, 1, 2, 2, 3, 3]]\n",
            "3\n"
          ]
        }
      ]
    }
  ]
}