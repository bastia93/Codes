{
  "nbformat": 4,
  "nbformat_minor": 0,
  "metadata": {
    "colab": {
      "name": "Longest Valid Paranthesis.ipynb",
      "provenance": [],
      "collapsed_sections": [],
      "authorship_tag": "ABX9TyOJPUqRwucog87asa6GXqz8",
      "include_colab_link": true
    },
    "kernelspec": {
      "name": "python3",
      "display_name": "Python 3"
    },
    "language_info": {
      "name": "python"
    }
  },
  "cells": [
    {
      "cell_type": "markdown",
      "metadata": {
        "id": "view-in-github",
        "colab_type": "text"
      },
      "source": [
        "<a href=\"https://colab.research.google.com/github/bastia93/Scaler_codes/blob/Dynamic-Programming/Longest_Valid_Paranthesis.ipynb\" target=\"_parent\"><img src=\"https://colab.research.google.com/assets/colab-badge.svg\" alt=\"Open In Colab\"/></a>"
      ]
    },
    {
      "cell_type": "markdown",
      "source": [
        "Given a string A containing just the characters '(' and ')'.\n",
        "\n",
        "Find the length of the longest valid (well-formed) parentheses substring.\n",
        "\n",
        "A = \")()())\"\n",
        "ans = 4\n",
        "\n",
        "()()"
      ],
      "metadata": {
        "id": "bJciOy7bH2Oo"
      }
    },
    {
      "cell_type": "code",
      "execution_count": 51,
      "metadata": {
        "id": "Eh1Z8Y_BHt9l"
      },
      "outputs": [],
      "source": [
        "def longestValidParentheses(A):\n",
        "    n = len(A)\n",
        "\n",
        "    # storing the index of the opening bracket\n",
        "    # the stack is initialized at -1, consider that at -1 index there is close bracket present\n",
        "    # Valid paranthesis means it starts after close bracket and ends at close bracket.\n",
        "\n",
        "    stk = [-1]\n",
        "    maximum = 0\n",
        "    for i in range(n):\n",
        "        # if open bracket found add the index \n",
        "        # may be this index is the starting point of longest valid paranthesis\n",
        "\n",
        "        if A[i] == \"(\":\n",
        "            stk.append(i)\n",
        "        else:\n",
        "            # if close bracket is found\n",
        "            # may be this is the end of the longest valid parathesis\n",
        "            # if this is the end, we assume there is open bracket present and WE POP that # important point\n",
        "\n",
        "            if stk:\n",
        "                stk.pop()\n",
        "            \n",
        "            # Now calculate the length of the longest paranthesis ends at current index\n",
        "            # that must be distance between previouse open bracket or close bracket to current close bracket\n",
        "            #(Basically lenth from one previous from the poped element to current index)\n",
        "            # if the stack is still not empty then current close bracket has proper open bracket and we poped that. \n",
        "            if stk:\n",
        "                maximum = max(maximum, i-stk[-1])\n",
        "\n",
        "            # if the stack is empty then that means for the current close bracket there is no proper close bracket.\n",
        "            # so we will consider this the start of the new question.\n",
        "\n",
        "            # at a time there is only one close bracket present.\n",
        "            else:\n",
        "                stk.append(i)\n",
        "\n",
        "\n",
        "    return maximum\n"
      ]
    },
    {
      "cell_type": "code",
      "source": [
        "A = \")()))(())((())))))())()(((((())())((()())(())((((())))())((()()))(()(((()()(()((()()))(())()))(((\"\n",
        "\n",
        "print(longestValidParentheses(A))"
      ],
      "metadata": {
        "colab": {
          "base_uri": "https://localhost:8080/"
        },
        "id": "25DV9mMdIUw-",
        "outputId": "1f07f5c3-6228-40dd-b2d2-6b90b645bbe8"
      },
      "execution_count": 52,
      "outputs": [
        {
          "output_type": "stream",
          "name": "stdout",
          "text": [
            "30\n"
          ]
        }
      ]
    }
  ]
}