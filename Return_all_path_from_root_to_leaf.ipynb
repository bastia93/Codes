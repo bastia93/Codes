{
  "nbformat": 4,
  "nbformat_minor": 0,
  "metadata": {
    "colab": {
      "name": "Return all path from root to leaf.ipynb",
      "provenance": [],
      "authorship_tag": "ABX9TyOIZ4rc6rG9SRpeJBeiTJ3q",
      "include_colab_link": true
    },
    "kernelspec": {
      "name": "python3",
      "display_name": "Python 3"
    },
    "language_info": {
      "name": "python"
    }
  },
  "cells": [
    {
      "cell_type": "markdown",
      "metadata": {
        "id": "view-in-github",
        "colab_type": "text"
      },
      "source": [
        "<a href=\"https://colab.research.google.com/github/bastia93/Codes/blob/Binary-Tree/Return_all_path_from_root_to_leaf.ipynb\" target=\"_parent\"><img src=\"https://colab.research.google.com/assets/colab-badge.svg\" alt=\"Open In Colab\"/></a>"
      ]
    },
    {
      "cell_type": "markdown",
      "source": [
        "Given a binary tree. Return all root to leaf paths. You can return the paths in any order."
      ],
      "metadata": {
        "id": "gpi2GFpG0k9w"
      }
    },
    {
      "cell_type": "code",
      "source": [
        "class TreeNode:\n",
        "    def __init__(self, x):\n",
        "        self.val = x\n",
        "        self.left = None\n",
        "        self.right = None"
      ],
      "metadata": {
        "id": "r6IprX480-hy"
      },
      "execution_count": null,
      "outputs": []
    },
    {
      "cell_type": "code",
      "source": [
        "Root = TreeNode(5)\n",
        "# Left sub tree\n",
        "Root.left = TreeNode(4)\n",
        "Root.left.left = TreeNode(200)\n",
        "Root.left.right = TreeNode(3)\n",
        "Root.left.right.left = TreeNode(100)\n",
        "# Right Sub tree\n",
        "Root.right = TreeNode(7)\n",
        "Root.right.right= TreeNode(11)\n",
        "Root.right.right.left= TreeNode(12)\n",
        "Root.right.right.right = TreeNode(10000)\n",
        "Root.right.left = TreeNode(70)\n",
        "Root.right.left.right = TreeNode(9)\n",
        "Root.right.left.right.left = TreeNode(15)"
      ],
      "metadata": {
        "id": "YCE1sfOb2ONs"
      },
      "execution_count": null,
      "outputs": []
    },
    {
      "cell_type": "markdown",
      "source": [
        "Arr.append(\"Element\") return None\n",
        "\n",
        "That is the reason sending argument as arr.append(\"ele\") return error as None type has no attribute as append.\n",
        "\n",
        "To avoind this use Arr + [\"Element\"] concatenate the array."
      ],
      "metadata": {
        "id": "YKN9vaOg0Kx1"
      }
    },
    {
      "cell_type": "code",
      "source": [
        "def solve(node,curr,ans):\n",
        "    if node.left == None and node.right == None:\n",
        "        ans.append(curr + [node.val])\n",
        "        return ans\n",
        "    else:\n",
        "       \n",
        "        if node.left != None:\n",
        "            ans = solve(node.left, curr + [node.val], ans)\n",
        "        if node.right != None:\n",
        "            ans = solve(node.right, curr+ [node.val], ans)\n",
        "        \n",
        "        return ans"
      ],
      "metadata": {
        "id": "kslCRhin3fFd"
      },
      "execution_count": null,
      "outputs": []
    },
    {
      "cell_type": "code",
      "source": [
        "x = solve(Root,[],[])\n",
        "for i in x:\n",
        "    print(i)"
      ],
      "metadata": {
        "colab": {
          "base_uri": "https://localhost:8080/"
        },
        "id": "PzHS_41HQ6vQ",
        "outputId": "fccece17-604b-45d7-e224-1af08410c3dd"
      },
      "execution_count": null,
      "outputs": [
        {
          "output_type": "stream",
          "name": "stdout",
          "text": [
            "[5, 4, 200]\n",
            "[5, 4, 3, 100]\n",
            "[5, 7, 70, 9, 15]\n",
            "[5, 7, 11, 12]\n",
            "[5, 7, 11, 10000]\n"
          ]
        }
      ]
    },
    {
      "cell_type": "markdown",
      "source": [
        "# Method 2"
      ],
      "metadata": {
        "id": "7diAnL1q6ByJ"
      }
    },
    {
      "cell_type": "code",
      "source": [
        "\n",
        "def FindPath(node,arr,length):\n",
        "    if not node:\n",
        "        return\n",
        "    \n",
        "\n",
        "    if len(arr) > length:\n",
        "        arr[length] = node.val\n",
        "    else:\n",
        "        arr.append(node.val)\n",
        "        #length += 1\n",
        "\n",
        "    if node.left == None and node.right == None:\n",
        "\n",
        "        #print(arr)\n",
        "        print(arr[:length+1])\n",
        "    else:\n",
        "        \n",
        "        FindPath(node.left,arr,length+1)\n",
        "        FindPath(node.right,arr,length+1)\n",
        "        \n",
        "\n",
        "    return \n",
        "\n",
        "\n",
        "FindPath(Root,[],0)"
      ],
      "metadata": {
        "colab": {
          "base_uri": "https://localhost:8080/"
        },
        "id": "E2Vd2H3Q6FuR",
        "outputId": "51400dc8-dbc4-4c74-bda8-78689f85d1c5"
      },
      "execution_count": null,
      "outputs": [
        {
          "output_type": "stream",
          "name": "stdout",
          "text": [
            "[5, 4, 200]\n",
            "[5, 4, 3, 100]\n",
            "[5, 7, 70, 9, 15]\n",
            "[5, 7, 11, 12]\n",
            "[5, 7, 11, 10000]\n"
          ]
        }
      ]
    },
    {
      "cell_type": "code",
      "source": [
        "def Inorder(curr, ans, length):\n",
        "    if curr == None:\n",
        "        return \n",
        "    \n",
        "    if len(ans) > length:\n",
        "        ans[length]=curr.val\n",
        "    else:\n",
        "        ans.append(curr.val)\n",
        "        #length += 1 \n",
        "    \n",
        "    if curr.left is None and curr.right is None:\n",
        "        printArry(ans, length) \n",
        "    else:\n",
        "        Inorder(curr.left, ans, length+1)\n",
        "        Inorder(curr.right, ans, length+1)\n",
        "    return\n",
        "def printArry(path, plength):\n",
        "    list_print = path[:plength+1]\n",
        "    print(list_print)\n",
        "\n",
        "arr = []\n",
        "Inorder(Root,arr,0)"
      ],
      "metadata": {
        "colab": {
          "base_uri": "https://localhost:8080/"
        },
        "id": "lYE3g57WDI0O",
        "outputId": "77c26156-9dd5-43bc-b9e0-6c560c7bd705"
      },
      "execution_count": null,
      "outputs": [
        {
          "output_type": "stream",
          "name": "stdout",
          "text": [
            "[5, 4, 200]\n",
            "[5, 4, 3, 100]\n",
            "[5, 7, 70, 9, 15]\n",
            "[5, 7, 11, 12]\n",
            "[5, 7, 11, 10000]\n"
          ]
        }
      ]
    }
  ]
}