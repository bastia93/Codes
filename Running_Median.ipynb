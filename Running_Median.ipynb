{
  "nbformat": 4,
  "nbformat_minor": 0,
  "metadata": {
    "colab": {
      "name": "Running Median.ipynb",
      "provenance": [],
      "authorship_tag": "ABX9TyOefuc7EAkfQaLa14KVH8hO",
      "include_colab_link": true
    },
    "kernelspec": {
      "name": "python3",
      "display_name": "Python 3"
    },
    "language_info": {
      "name": "python"
    }
  },
  "cells": [
    {
      "cell_type": "markdown",
      "metadata": {
        "id": "view-in-github",
        "colab_type": "text"
      },
      "source": [
        "<a href=\"https://colab.research.google.com/github/bastia93/Codes/blob/Heap/Running_Median.ipynb\" target=\"_parent\"><img src=\"https://colab.research.google.com/assets/colab-badge.svg\" alt=\"Open In Colab\"/></a>"
      ]
    },
    {
      "cell_type": "markdown",
      "source": [
        "Given an array of integers, A denoting a stream of integers. New arrays of integer B and C are formed.\n",
        "Each time an integer is encountered in a stream, append it at the end of B and append the median of array B at the C.\n",
        "\n",
        "Find and return the array C.\n",
        "\n",
        "A = [1, 2, 5, 4, 3]\n",
        "ans= \n",
        "\n",
        "[1]              1\n",
        "\n",
        "[1, 2]           1\n",
        "\n",
        "[1, 2, 5]       2\n",
        "\n",
        "[1, 2, 5, 4]    2\n",
        "\n",
        "[1, 2, 5, 4, 3]  3"
      ],
      "metadata": {
        "id": "gumyZLxs9Bi7"
      }
    },
    {
      "cell_type": "code",
      "source": [
        "def sort(arr, x):\n",
        "    n = len(arr)\n",
        "    if n == 0:\n",
        "        return [x]\n",
        "    i = 0\n",
        "    j = n-1\n",
        "\n",
        "    while(i <= j):\n",
        "        mid = (i+j) //2\n",
        "        if x < arr[mid]:\n",
        "            j = mid-1\n",
        "        elif x > arr[mid]:\n",
        "            i += 1\n",
        "        else:\n",
        "            return arr[:mid] + [x] + arr[mid:]\n",
        "    \n",
        "    return arr[:i] + [x] + arr[i:]"
      ],
      "metadata": {
        "id": "hcjhnn-C9TG0"
      },
      "execution_count": null,
      "outputs": []
    },
    {
      "cell_type": "code",
      "source": [
        "sort([1,2,3,5,9],100)"
      ],
      "metadata": {
        "colab": {
          "base_uri": "https://localhost:8080/"
        },
        "id": "7NDOlhoa-Sfg",
        "outputId": "a6dce1fa-4264-420f-d4d2-0df51cfa2c66"
      },
      "execution_count": null,
      "outputs": [
        {
          "output_type": "execute_result",
          "data": {
            "text/plain": [
              "[1, 2, 3, 5, 9, 100]"
            ]
          },
          "metadata": {},
          "execution_count": 13
        }
      ]
    },
    {
      "cell_type": "code",
      "source": [
        "def median(A):\n",
        "    B = []\n",
        "    ans = []\n",
        "    n = 0\n",
        "\n",
        "    for i in A:\n",
        "        B = sort(B,i)\n",
        "\n",
        "        n += 1\n",
        "        if n %2 != 0:\n",
        "            ans.append(B[n//2])\n",
        "        else:\n",
        "            ans.append(B[n//2 - 1])\n",
        "    return ans\n"
      ],
      "metadata": {
        "id": "38QSsnKn_BZj"
      },
      "execution_count": null,
      "outputs": []
    },
    {
      "cell_type": "code",
      "source": [
        "B = [ 269440088, 960692481, 53909692]\n",
        "median(B)"
      ],
      "metadata": {
        "id": "AbkXl2AN_7Rb"
      },
      "execution_count": null,
      "outputs": []
    },
    {
      "cell_type": "markdown",
      "source": [
        "# Method 2"
      ],
      "metadata": {
        "id": "N6RLPSqaOyA6"
      }
    },
    {
      "cell_type": "code",
      "source": [
        "from heapq import heappush, heappop, heapify\n",
        "def median2(A):\n",
        "    min_heap = []\n",
        "    max_heap = []\n",
        "    heapify(max_heap)\n",
        "    heapify(min_heap)\n",
        "    ans = []\n",
        "    heappush(max_heap,-A[0])\n",
        "    ans.append(-max_heap[0])\n",
        "    for i in A[1:]:\n",
        "\n",
        "       \n",
        "        if i < -max_heap[0]:\n",
        "            \n",
        "            heappush(max_heap,-i)\n",
        "            \n",
        "            if len(max_heap) - len(min_heap) > 1:\n",
        "                temp = heappop(max_heap)\n",
        "                temp = -temp\n",
        "                heappush(min_heap,temp)\n",
        "                \n",
        "        else:\n",
        "            heappush(min_heap,i)\n",
        "            if len(max_heap) < len(min_heap):\n",
        "                temp = heappop(min_heap)\n",
        "                temp = -temp\n",
        "                heappush(max_heap,temp)\n",
        "                \n",
        "        ans.append(-max_heap[0])\n",
        "    return ans"
      ],
      "metadata": {
        "id": "H7yQqc9QO0Mx"
      },
      "execution_count": null,
      "outputs": []
    },
    {
      "cell_type": "code",
      "source": [
        "median2([59,64,10,39])"
      ],
      "metadata": {
        "colab": {
          "base_uri": "https://localhost:8080/"
        },
        "id": "O4ZAoJYZPIsq",
        "outputId": "969e8785-712f-4322-fd91-303a134eecdd"
      },
      "execution_count": null,
      "outputs": [
        {
          "output_type": "stream",
          "name": "stdout",
          "text": [
            "64 -59\n",
            "10 -59\n",
            "[-59, -10]\n",
            "39 -59\n",
            "[-59, -10, -39]\n"
          ]
        },
        {
          "output_type": "execute_result",
          "data": {
            "text/plain": [
              "[59, 59, 59, 39]"
            ]
          },
          "metadata": {},
          "execution_count": 41
        }
      ]
    }
  ]
}