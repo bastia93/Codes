{
  "nbformat": 4,
  "nbformat_minor": 0,
  "metadata": {
    "colab": {
      "name": "Max Product Subarray.ipynb",
      "provenance": [],
      "authorship_tag": "ABX9TyOpKO25ayy/n/kHeyRS9nhP",
      "include_colab_link": true
    },
    "kernelspec": {
      "name": "python3",
      "display_name": "Python 3"
    },
    "language_info": {
      "name": "python"
    }
  },
  "cells": [
    {
      "cell_type": "markdown",
      "metadata": {
        "id": "view-in-github",
        "colab_type": "text"
      },
      "source": [
        "<a href=\"https://colab.research.google.com/github/bastia93/Codes/blob/Dynamic-Programming/Max_Product_Subarray.ipynb\" target=\"_parent\"><img src=\"https://colab.research.google.com/assets/colab-badge.svg\" alt=\"Open In Colab\"/></a>"
      ]
    },
    {
      "cell_type": "markdown",
      "source": [
        "Given an integer array A of size N. Find the contiguous subarray within the given array (containing at least one number) which has the largest product.\n",
        "\n",
        "Return an integer corresponding to the maximum product possible.\n",
        "\n",
        "NOTE: Answer will fit in 32-bit integer value.\n",
        "\n",
        "\n",
        "First and only argument is an integer array A.\n",
        "\n",
        "Return an integer corresponding to the maximum product possible.\n",
        "\n",
        "A = [4, 2, -5, 1]\n",
        "ans = 8"
      ],
      "metadata": {
        "id": "0cyaCCmA5LZd"
      }
    },
    {
      "cell_type": "code",
      "source": [
        "A = [0,-5,-3]\n",
        "n = len(A)\n",
        "\n",
        "prod = [[0 for i in range(n)] for i in range(n)]\n",
        "\n",
        "temp = 0\n",
        "for i in range(n):\n",
        "    for j in range(i+1):\n",
        "        if i == j:\n",
        "            prod[i][j] = A[i]\n",
        "        else:\n",
        "            prod[i][j] = prod[i-1][j]*A[i]\n",
        "        temp = max(temp, prod[i][j])\n",
        "\n",
        "print(temp)\n",
        "\n",
        "# TC = O(n^2)\n",
        "# SC = O(n^2)\n",
        "# all the subarray are created and the maximum product was found"
      ],
      "metadata": {
        "colab": {
          "base_uri": "https://localhost:8080/"
        },
        "id": "g2xnv7Cn7FGa",
        "outputId": "6c8ce7d5-eec4-4c78-9729-81fb0d1f09e8"
      },
      "execution_count": 2,
      "outputs": [
        {
          "output_type": "stream",
          "name": "stdout",
          "text": [
            "15\n"
          ]
        }
      ]
    },
    {
      "cell_type": "markdown",
      "source": [
        "# O(N) Time compexity"
      ],
      "metadata": {
        "id": "jGH-ONwkVzvm"
      }
    },
    {
      "cell_type": "markdown",
      "source": [
        "if absolute values are considered than if any number except zero is multplied with exsting product the value will increases.\n",
        "\n",
        "Maximum product can be produced from maximum product if the current element is +ve\n",
        "\n",
        "maximum product can be produced from minimum product (-ve) by multiplying a negative number.\n",
        "\n",
        "At any point it is better to store the both product minimum or maximum, because both can give maximum product.\n",
        "\n",
        "At any index there are possiblity possibility \n",
        "1. that index value is maximum product\n",
        "2. max product can be produced by considering the previous product.\n",
        "\n",
        "    2.a. if the current element is negative then I require minimum product (-ve)\n",
        "    \n",
        "    2.b. if the current element is positive , then I require maximum product(+ve)\n",
        "\n"
      ],
      "metadata": {
        "id": "Z6peziyMWIlW"
      }
    },
    {
      "cell_type": "code",
      "source": [
        "A= [4, 2, -5, 1]\n",
        "n = len(A)\n",
        "# for storing minimum and maximum product\n",
        "dp = [[0 for i in range(n)] for i in range(2)]\n",
        "\n",
        "#Initialization\n",
        "\n",
        "dp[0][0] = A[0]\n",
        "dp[1][0] = A[0]\n",
        "ans = A[0]\n",
        "\n",
        "for i in range(1,n):\n",
        "    dp[0][i] = max(A[i], A[i]*dp[0][i-1], A[i]*dp[1][i-1])\n",
        "\n",
        "    dp[1][i] = min(A[i], A[i]*dp[0][i-1], A[i]*dp[1][i-1])\n",
        "\n",
        "    ans = max(dp[0][i], ans)\n",
        "\n",
        "print(dp)\n",
        "print(ans)"
      ],
      "metadata": {
        "colab": {
          "base_uri": "https://localhost:8080/"
        },
        "id": "hI23ol1xXAmz",
        "outputId": "36e7a921-ed1d-4c24-b8cd-303b53813107"
      },
      "execution_count": 6,
      "outputs": [
        {
          "output_type": "stream",
          "name": "stdout",
          "text": [
            "[[4, 8, -5, 1], [4, 2, -40, -40]]\n",
            "8\n"
          ]
        }
      ]
    }
  ]
}