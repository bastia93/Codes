{
  "nbformat": 4,
  "nbformat_minor": 0,
  "metadata": {
    "colab": {
      "name": "Minimum_Number_of_squares.ipynb",
      "provenance": [],
      "authorship_tag": "ABX9TyPK1T8JvZmbttLAsNBrCKqH",
      "include_colab_link": true
    },
    "kernelspec": {
      "name": "python3",
      "display_name": "Python 3"
    },
    "language_info": {
      "name": "python"
    }
  },
  "cells": [
    {
      "cell_type": "markdown",
      "metadata": {
        "id": "view-in-github",
        "colab_type": "text"
      },
      "source": [
        "<a href=\"https://colab.research.google.com/github/bastia93/Codes/blob/Dynamic-Programming/Minimum_Number_of_squares.ipynb\" target=\"_parent\"><img src=\"https://colab.research.google.com/assets/colab-badge.svg\" alt=\"Open In Colab\"/></a>"
      ]
    },
    {
      "cell_type": "markdown",
      "source": [
        "Given an integer A. Return minimum count of numbers, sum of whose squares is equal to A.\n",
        "\n",
        "\n",
        "Possible combinations are : (1^2 + 1^2 + 1^2 + 1^2 + 1^2 + 1^2) and (1^2 + 1^2 + 2^2).\n",
        " Minimum count of numbers, sum of whose squares is 6 is 3. "
      ],
      "metadata": {
        "id": "7OR8P2dV8UB1"
      }
    },
    {
      "cell_type": "code",
      "source": [
        "import math\n",
        "def find(n):\n",
        "    global dp\n",
        "    if dp[n] != -1:\n",
        "        return dp[n]\n",
        "    else:\n",
        "        temp = n\n",
        "        \n",
        "        for i in range(1,int(math.sqrt(n))+1):\n",
        "            if i*i <= n:\n",
        "                temp = min(temp, 1+find(n-(i*i)))\n",
        "        \n",
        "        dp[n] = temp\n",
        "        return dp[n]\n",
        "\n",
        "A = 13\n",
        "dp = [-1 for i in range(A+1)]\n",
        "dp[0] = 0\n",
        "dp[1] = 1\n",
        "\n",
        "\n",
        "\n",
        "ans = find(A)\n",
        "print(ans)"
      ],
      "metadata": {
        "colab": {
          "base_uri": "https://localhost:8080/"
        },
        "id": "etvPWDvi8alL",
        "outputId": "44b35dc7-f2be-4442-e44e-011e85ea9e97"
      },
      "execution_count": null,
      "outputs": [
        {
          "output_type": "stream",
          "name": "stdout",
          "text": [
            "2\n"
          ]
        }
      ]
    },
    {
      "cell_type": "code",
      "source": [
        "print(dp)"
      ],
      "metadata": {
        "colab": {
          "base_uri": "https://localhost:8080/"
        },
        "id": "D5LGno-q874Z",
        "outputId": "c36cca23-f1b1-4bae-cb71-b8409c06f7bb"
      },
      "execution_count": null,
      "outputs": [
        {
          "output_type": "stream",
          "name": "stdout",
          "text": [
            "[0, 1, 2, 3, 1, 2, 3, 4, 2, 1, 2, 3, 3, 2]\n"
          ]
        }
      ]
    }
  ]
}